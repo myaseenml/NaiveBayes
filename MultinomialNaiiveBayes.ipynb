{
  "nbformat": 4,
  "nbformat_minor": 0,
  "metadata": {
    "colab": {
      "name": "Aninav_MultinomialBayesianClassifier.ipynb",
      "provenance": [],
      "collapsed_sections": []
    },
    "kernelspec": {
      "name": "python3",
      "display_name": "Python 3"
    }
  },
  "cells": [
    {
      "cell_type": "markdown",
      "metadata": {
        "id": "AStXy62FgMcG"
      },
      "source": [
        "**The following has to be done using Bayesian learning (Naïve Bayes classifier):**\n",
        "\n",
        "TASK 1) Randomly divide the data into 80% for training and 20% for testing.\n",
        "\n",
        "    a)\tHandle the missing values in both train and test set. [5]\n",
        "    b)\tEncode categorical variables using appropriate encoding method (in-built function allowed). [5]\n",
        "    c)\tAfter completing step (a) and (b), compute 5-fold cross validation on the training set \n",
        "          (normalisation of data is allowed, if required). Print the final test accuracy. [10]\n",
        "\n",
        "\n",
        "TASK 2) Apply PCA (select number of components by preserving 95% of total variance) on the processed data from step (1). \n",
        "\n",
        "    a)\tPlot the graph for PCA (in-built function allowed for PCA and visualisation). [20]\n",
        "    b)\tUse the features extracted from PCA to train your model. Compute 5-fold cross \n",
        "          validation on the training set (normalisation of data is allowed, if required). \n",
        "    c)    Print the final test accuracy. [10]\n",
        "\n",
        "\n",
        "---\n",
        "\n",
        "\n",
        "TASK 3) Using the processed data from step (1), apply the following:\n",
        "\n",
        "    a)\tA feature value is considered as an outlier if its value is greater than mean + 3 x standard deviation.\n",
        "          A sample having maximum such outlier features must be dropped. [5] \n",
        "    b)\tUsing the sequential backward selection method, remove features. [15]\n",
        "    c)\tPrint the final set of features formed. [5]\n",
        "    d)\tCompute 5-fold cross validation on the training set (normalisation of data is allowed if required).\n",
        "           Print the final test accuracy. [5]\n",
        "\n",
        "TASK 4) Report and results. [20]\n",
        "\n",
        "    Use Train_F.csv as data for this assignment. The “severity_county_5-day” column will be used as labels."
      ]
    },
    {
      "cell_type": "markdown",
      "metadata": {
        "id": "G4GuaLhHi6mf"
      },
      "source": [
        "# **Load Dataset**"
      ]
    },
    {
      "cell_type": "code",
      "metadata": {
        "id": "7aMOkg1si_NZ"
      },
      "source": [
        "# Code to read csv file into colaboratory:\n",
        "!pip install -U -q PyDrive\n",
        "from pydrive.auth import GoogleAuth\n",
        "from pydrive.drive import GoogleDrive\n",
        "from google.colab import auth\n",
        "from oauth2client.client import GoogleCredentials\n",
        "auth.authenticate_user()\n",
        "gauth = GoogleAuth()\n",
        "gauth.credentials = GoogleCredentials.get_application_default()\n",
        "drive = GoogleDrive(gauth)\n",
        "\n",
        "#2.1 Get the file\n",
        "downloaded = drive.CreateFile({'id':'1h6IzjhxjFUh0JPD53bGbUeQeR_FOD9j0'}) \n",
        "downloaded.GetContentFile('Train_F.csv') "
      ],
      "execution_count": null,
      "outputs": []
    },
    {
      "cell_type": "markdown",
      "metadata": {
        "id": "mNJAQtp0ivxH"
      },
      "source": [
        "## **Exploratory Data Analysis**"
      ]
    },
    {
      "cell_type": "code",
      "metadata": {
        "id": "Q9jKmWCTi2Zk"
      },
      "source": [
        "import pandas as pd\n",
        "import numpy as np\n",
        "import matplotlib as plt\n",
        "import seaborn as sns\n",
        "import matplotlib.pyplot as plt\n",
        "sns.set(style=\"darkgrid\")\n",
        "\n",
        "data = pd.read_csv('Train_F.csv') "
      ],
      "execution_count": null,
      "outputs": []
    },
    {
      "cell_type": "code",
      "metadata": {
        "id": "BUo3wlKmp0rB",
        "colab": {
          "base_uri": "https://localhost:8080/",
          "height": 400
        },
        "outputId": "6960194e-1352-4dc2-c6c6-8a6321543c6c"
      },
      "source": [
        "data.sample(10)"
      ],
      "execution_count": null,
      "outputs": [
        {
          "output_type": "execute_result",
          "data": {
            "text/html": [
              "<div>\n",
              "<style scoped>\n",
              "    .dataframe tbody tr th:only-of-type {\n",
              "        vertical-align: middle;\n",
              "    }\n",
              "\n",
              "    .dataframe tbody tr th {\n",
              "        vertical-align: top;\n",
              "    }\n",
              "\n",
              "    .dataframe thead th {\n",
              "        text-align: right;\n",
              "    }\n",
              "</style>\n",
              "<table border=\"1\" class=\"dataframe\">\n",
              "  <thead>\n",
              "    <tr style=\"text-align: right;\">\n",
              "      <th></th>\n",
              "      <th>countyfips</th>\n",
              "      <th>countyname</th>\n",
              "      <th>statename</th>\n",
              "      <th>predicted_deaths_by_october_06</th>\n",
              "      <th>predicted_deaths_by_october_07</th>\n",
              "      <th>predicted_deaths_by_october_08</th>\n",
              "      <th>predicted_deaths_by_october_09</th>\n",
              "      <th>predicted_deaths_by_october_10</th>\n",
              "      <th>predicted_deaths_by_october_11</th>\n",
              "      <th>predicted_deaths_by_october_12</th>\n",
              "      <th>severity_county_5-day</th>\n",
              "    </tr>\n",
              "  </thead>\n",
              "  <tbody>\n",
              "    <tr>\n",
              "      <th>2498</th>\n",
              "      <td>29205</td>\n",
              "      <td>Shelby</td>\n",
              "      <td>MO</td>\n",
              "      <td>1.3</td>\n",
              "      <td>1.5</td>\n",
              "      <td>1.8</td>\n",
              "      <td>2.1</td>\n",
              "      <td>2.3</td>\n",
              "      <td>2.6</td>\n",
              "      <td>3.0</td>\n",
              "      <td>1</td>\n",
              "    </tr>\n",
              "    <tr>\n",
              "      <th>1359</th>\n",
              "      <td>37015</td>\n",
              "      <td>Bertie</td>\n",
              "      <td>NC</td>\n",
              "      <td>11.2</td>\n",
              "      <td>11.4</td>\n",
              "      <td>11.6</td>\n",
              "      <td>11.7</td>\n",
              "      <td>11.9</td>\n",
              "      <td>12.1</td>\n",
              "      <td>12.2</td>\n",
              "      <td>2</td>\n",
              "    </tr>\n",
              "    <tr>\n",
              "      <th>1496</th>\n",
              "      <td>19125</td>\n",
              "      <td>Marion</td>\n",
              "      <td>IA</td>\n",
              "      <td>9.2</td>\n",
              "      <td>9.4</td>\n",
              "      <td>9.6</td>\n",
              "      <td>9.8</td>\n",
              "      <td>9.9</td>\n",
              "      <td>10.1</td>\n",
              "      <td>10.2</td>\n",
              "      <td>2</td>\n",
              "    </tr>\n",
              "    <tr>\n",
              "      <th>1086</th>\n",
              "      <td>37131</td>\n",
              "      <td>Northampton</td>\n",
              "      <td>NC</td>\n",
              "      <td>17.2</td>\n",
              "      <td>17.5</td>\n",
              "      <td>17.7</td>\n",
              "      <td>17.9</td>\n",
              "      <td>18.2</td>\n",
              "      <td>18.4</td>\n",
              "      <td>18.7</td>\n",
              "      <td>2</td>\n",
              "    </tr>\n",
              "    <tr>\n",
              "      <th>2023</th>\n",
              "      <td>48207</td>\n",
              "      <td>Haskell</td>\n",
              "      <td>TX</td>\n",
              "      <td>3.4</td>\n",
              "      <td>3.8</td>\n",
              "      <td>4.2</td>\n",
              "      <td>4.6</td>\n",
              "      <td>5.1</td>\n",
              "      <td>5.5</td>\n",
              "      <td>6.1</td>\n",
              "      <td>3</td>\n",
              "    </tr>\n",
              "    <tr>\n",
              "      <th>2306</th>\n",
              "      <td>18175</td>\n",
              "      <td>Washington</td>\n",
              "      <td>IN</td>\n",
              "      <td>2.3</td>\n",
              "      <td>2.5</td>\n",
              "      <td>2.8</td>\n",
              "      <td>3.0</td>\n",
              "      <td>3.2</td>\n",
              "      <td>3.4</td>\n",
              "      <td>3.6</td>\n",
              "      <td>1</td>\n",
              "    </tr>\n",
              "    <tr>\n",
              "      <th>2859</th>\n",
              "      <td>27075</td>\n",
              "      <td>Lake</td>\n",
              "      <td>MN</td>\n",
              "      <td>0.1</td>\n",
              "      <td>0.3</td>\n",
              "      <td>0.4</td>\n",
              "      <td>0.6</td>\n",
              "      <td>0.7</td>\n",
              "      <td>0.9</td>\n",
              "      <td>1.1</td>\n",
              "      <td>1</td>\n",
              "    </tr>\n",
              "    <tr>\n",
              "      <th>1883</th>\n",
              "      <td>46113</td>\n",
              "      <td>Shannon</td>\n",
              "      <td>SD</td>\n",
              "      <td>4.6</td>\n",
              "      <td>5.1</td>\n",
              "      <td>5.6</td>\n",
              "      <td>6.1</td>\n",
              "      <td>6.6</td>\n",
              "      <td>7.1</td>\n",
              "      <td>7.6</td>\n",
              "      <td>3</td>\n",
              "    </tr>\n",
              "    <tr>\n",
              "      <th>2298</th>\n",
              "      <td>48487</td>\n",
              "      <td>Wilbarger</td>\n",
              "      <td>TX</td>\n",
              "      <td>2.3</td>\n",
              "      <td>2.6</td>\n",
              "      <td>2.8</td>\n",
              "      <td>3.1</td>\n",
              "      <td>3.4</td>\n",
              "      <td>3.7</td>\n",
              "      <td>4.0</td>\n",
              "      <td>2</td>\n",
              "    </tr>\n",
              "    <tr>\n",
              "      <th>1071</th>\n",
              "      <td>26159</td>\n",
              "      <td>Van Buren</td>\n",
              "      <td>MI</td>\n",
              "      <td>18.0</td>\n",
              "      <td>18.0</td>\n",
              "      <td>18.0</td>\n",
              "      <td>18.0</td>\n",
              "      <td>18.0</td>\n",
              "      <td>18.0</td>\n",
              "      <td>18.0</td>\n",
              "      <td>1</td>\n",
              "    </tr>\n",
              "  </tbody>\n",
              "</table>\n",
              "</div>"
            ],
            "text/plain": [
              "      countyfips  ... severity_county_5-day\n",
              "2498       29205  ...                     1\n",
              "1359       37015  ...                     2\n",
              "1496       19125  ...                     2\n",
              "1086       37131  ...                     2\n",
              "2023       48207  ...                     3\n",
              "2306       18175  ...                     1\n",
              "2859       27075  ...                     1\n",
              "1883       46113  ...                     3\n",
              "2298       48487  ...                     2\n",
              "1071       26159  ...                     1\n",
              "\n",
              "[10 rows x 11 columns]"
            ]
          },
          "metadata": {
            "tags": []
          },
          "execution_count": 34
        }
      ]
    },
    {
      "cell_type": "code",
      "metadata": {
        "id": "TBP-s931q1uK",
        "colab": {
          "base_uri": "https://localhost:8080/"
        },
        "outputId": "e88fe6ee-2d72-4e38-d047-36e4c76780fd"
      },
      "source": [
        "data.info()"
      ],
      "execution_count": null,
      "outputs": [
        {
          "output_type": "stream",
          "text": [
            "<class 'pandas.core.frame.DataFrame'>\n",
            "RangeIndex: 3142 entries, 0 to 3141\n",
            "Data columns (total 11 columns):\n",
            " #   Column                          Non-Null Count  Dtype  \n",
            "---  ------                          --------------  -----  \n",
            " 0   countyfips                      3142 non-null   int64  \n",
            " 1   countyname                      3142 non-null   object \n",
            " 2   statename                       3142 non-null   object \n",
            " 3   predicted_deaths_by_october_06  3142 non-null   float64\n",
            " 4   predicted_deaths_by_october_07  3142 non-null   float64\n",
            " 5   predicted_deaths_by_october_08  3142 non-null   float64\n",
            " 6   predicted_deaths_by_october_09  3142 non-null   float64\n",
            " 7   predicted_deaths_by_october_10  3142 non-null   float64\n",
            " 8   predicted_deaths_by_october_11  3142 non-null   float64\n",
            " 9   predicted_deaths_by_october_12  3142 non-null   float64\n",
            " 10  severity_county_5-day           3142 non-null   int64  \n",
            "dtypes: float64(7), int64(2), object(2)\n",
            "memory usage: 270.1+ KB\n"
          ],
          "name": "stdout"
        }
      ]
    },
    {
      "cell_type": "code",
      "metadata": {
        "id": "BcNjBRNRreT8",
        "colab": {
          "base_uri": "https://localhost:8080/",
          "height": 337
        },
        "outputId": "60c6be44-6d52-4437-b1a8-edb29d218df7"
      },
      "source": [
        "data.describe()"
      ],
      "execution_count": null,
      "outputs": [
        {
          "output_type": "execute_result",
          "data": {
            "text/html": [
              "<div>\n",
              "<style scoped>\n",
              "    .dataframe tbody tr th:only-of-type {\n",
              "        vertical-align: middle;\n",
              "    }\n",
              "\n",
              "    .dataframe tbody tr th {\n",
              "        vertical-align: top;\n",
              "    }\n",
              "\n",
              "    .dataframe thead th {\n",
              "        text-align: right;\n",
              "    }\n",
              "</style>\n",
              "<table border=\"1\" class=\"dataframe\">\n",
              "  <thead>\n",
              "    <tr style=\"text-align: right;\">\n",
              "      <th></th>\n",
              "      <th>countyfips</th>\n",
              "      <th>predicted_deaths_by_october_06</th>\n",
              "      <th>predicted_deaths_by_october_07</th>\n",
              "      <th>predicted_deaths_by_october_08</th>\n",
              "      <th>predicted_deaths_by_october_09</th>\n",
              "      <th>predicted_deaths_by_october_10</th>\n",
              "      <th>predicted_deaths_by_october_11</th>\n",
              "      <th>predicted_deaths_by_october_12</th>\n",
              "      <th>severity_county_5-day</th>\n",
              "    </tr>\n",
              "  </thead>\n",
              "  <tbody>\n",
              "    <tr>\n",
              "      <th>count</th>\n",
              "      <td>3142.000000</td>\n",
              "      <td>3142.000000</td>\n",
              "      <td>3142.000000</td>\n",
              "      <td>3142.000000</td>\n",
              "      <td>3142.000000</td>\n",
              "      <td>3142.000000</td>\n",
              "      <td>3142.000000</td>\n",
              "      <td>3142.000000</td>\n",
              "      <td>3142.000000</td>\n",
              "    </tr>\n",
              "    <tr>\n",
              "      <th>mean</th>\n",
              "      <td>30383.688415</td>\n",
              "      <td>66.508561</td>\n",
              "      <td>66.878771</td>\n",
              "      <td>67.247199</td>\n",
              "      <td>67.617218</td>\n",
              "      <td>67.990834</td>\n",
              "      <td>68.367027</td>\n",
              "      <td>68.750414</td>\n",
              "      <td>1.984723</td>\n",
              "    </tr>\n",
              "    <tr>\n",
              "      <th>std</th>\n",
              "      <td>15162.445759</td>\n",
              "      <td>329.283634</td>\n",
              "      <td>330.028950</td>\n",
              "      <td>330.789167</td>\n",
              "      <td>331.564638</td>\n",
              "      <td>332.356617</td>\n",
              "      <td>333.167565</td>\n",
              "      <td>333.999863</td>\n",
              "      <td>0.822570</td>\n",
              "    </tr>\n",
              "    <tr>\n",
              "      <th>min</th>\n",
              "      <td>1001.000000</td>\n",
              "      <td>0.100000</td>\n",
              "      <td>0.300000</td>\n",
              "      <td>0.400000</td>\n",
              "      <td>0.500000</td>\n",
              "      <td>0.600000</td>\n",
              "      <td>0.700000</td>\n",
              "      <td>0.800000</td>\n",
              "      <td>1.000000</td>\n",
              "    </tr>\n",
              "    <tr>\n",
              "      <th>25%</th>\n",
              "      <td>18177.500000</td>\n",
              "      <td>2.300000</td>\n",
              "      <td>2.500000</td>\n",
              "      <td>2.800000</td>\n",
              "      <td>3.000000</td>\n",
              "      <td>3.300000</td>\n",
              "      <td>3.500000</td>\n",
              "      <td>3.800000</td>\n",
              "      <td>1.000000</td>\n",
              "    </tr>\n",
              "    <tr>\n",
              "      <th>50%</th>\n",
              "      <td>29176.000000</td>\n",
              "      <td>8.200000</td>\n",
              "      <td>8.400000</td>\n",
              "      <td>8.700000</td>\n",
              "      <td>8.900000</td>\n",
              "      <td>9.200000</td>\n",
              "      <td>9.500000</td>\n",
              "      <td>9.900000</td>\n",
              "      <td>2.000000</td>\n",
              "    </tr>\n",
              "    <tr>\n",
              "      <th>75%</th>\n",
              "      <td>45080.500000</td>\n",
              "      <td>29.500000</td>\n",
              "      <td>29.975000</td>\n",
              "      <td>30.150000</td>\n",
              "      <td>30.300000</td>\n",
              "      <td>30.575000</td>\n",
              "      <td>30.800000</td>\n",
              "      <td>31.000000</td>\n",
              "      <td>3.000000</td>\n",
              "    </tr>\n",
              "    <tr>\n",
              "      <th>max</th>\n",
              "      <td>56045.000000</td>\n",
              "      <td>7348.200000</td>\n",
              "      <td>7356.800000</td>\n",
              "      <td>7366.000000</td>\n",
              "      <td>7375.600000</td>\n",
              "      <td>7385.800000</td>\n",
              "      <td>7396.500000</td>\n",
              "      <td>7407.800000</td>\n",
              "      <td>3.000000</td>\n",
              "    </tr>\n",
              "  </tbody>\n",
              "</table>\n",
              "</div>"
            ],
            "text/plain": [
              "         countyfips  ...  severity_county_5-day\n",
              "count   3142.000000  ...            3142.000000\n",
              "mean   30383.688415  ...               1.984723\n",
              "std    15162.445759  ...               0.822570\n",
              "min     1001.000000  ...               1.000000\n",
              "25%    18177.500000  ...               1.000000\n",
              "50%    29176.000000  ...               2.000000\n",
              "75%    45080.500000  ...               3.000000\n",
              "max    56045.000000  ...               3.000000\n",
              "\n",
              "[8 rows x 9 columns]"
            ]
          },
          "metadata": {
            "tags": []
          },
          "execution_count": 36
        }
      ]
    },
    {
      "cell_type": "code",
      "metadata": {
        "id": "ZQoyEZcMsvpg",
        "colab": {
          "base_uri": "https://localhost:8080/"
        },
        "outputId": "a03f9f2a-5051-4670-cad0-76ab0e189954"
      },
      "source": [
        "data.isnull().sum()"
      ],
      "execution_count": null,
      "outputs": [
        {
          "output_type": "execute_result",
          "data": {
            "text/plain": [
              "countyfips                        0\n",
              "countyname                        0\n",
              "statename                         0\n",
              "predicted_deaths_by_october_06    0\n",
              "predicted_deaths_by_october_07    0\n",
              "predicted_deaths_by_october_08    0\n",
              "predicted_deaths_by_october_09    0\n",
              "predicted_deaths_by_october_10    0\n",
              "predicted_deaths_by_october_11    0\n",
              "predicted_deaths_by_october_12    0\n",
              "severity_county_5-day             0\n",
              "dtype: int64"
            ]
          },
          "metadata": {
            "tags": []
          },
          "execution_count": 37
        }
      ]
    },
    {
      "cell_type": "code",
      "metadata": {
        "id": "n4HE9ZQMp15T",
        "colab": {
          "base_uri": "https://localhost:8080/"
        },
        "outputId": "b424d4d2-0560-4b7a-a60a-5df1a49bdcbc"
      },
      "source": [
        "print(data['statename'].unique())\n",
        "print(len(data['statename'].unique()))"
      ],
      "execution_count": null,
      "outputs": [
        {
          "output_type": "stream",
          "text": [
            "['NY' 'CA' 'IL' 'AZ' 'FL' 'MI' 'TX' 'MA' 'NJ' 'PA' 'CT' 'NV' 'MN' 'RI'\n",
            " 'MD' 'IN' 'MO' 'WA' 'OH' 'DC' 'LA' 'VA' 'GA' 'WI' 'TN' 'CO' 'NC' 'AL'\n",
            " 'DE' 'KY' 'SC' 'NH' 'IA' 'UT' 'NM' 'OK' 'NE' 'MS' 'AR' 'KS' 'ID' 'OR'\n",
            " 'HI' 'WV' 'SD' 'ND' 'ME' 'MT' 'VT' 'AK' 'WY']\n",
            "51\n"
          ],
          "name": "stdout"
        }
      ]
    },
    {
      "cell_type": "code",
      "metadata": {
        "id": "Rhx0VH56CWVj",
        "colab": {
          "base_uri": "https://localhost:8080/",
          "height": 358
        },
        "outputId": "3e2e3771-1aff-4523-801c-fe8150fea702"
      },
      "source": [
        "states_count = data['statename'].value_counts()\n",
        "sns.barplot(states_count.index, states_count.values, alpha=0.9)\n",
        "plt.title('Frequency Distribution of States')\n",
        "plt.ylabel('Number of Occurrences', fontsize=12)\n",
        "plt.xlabel('States', fontsize=12)\n",
        "plt.show()"
      ],
      "execution_count": null,
      "outputs": [
        {
          "output_type": "stream",
          "text": [
            "/usr/local/lib/python3.6/dist-packages/seaborn/_decorators.py:43: FutureWarning: Pass the following variables as keyword args: x, y. From version 0.12, the only valid positional argument will be `data`, and passing other arguments without an explicit keyword will result in an error or misinterpretation.\n",
            "  FutureWarning\n"
          ],
          "name": "stderr"
        },
        {
          "output_type": "display_data",
          "data": {
            "image/png": "[encoded data removed]",
            "text/plain": [
              "<Figure size 432x288 with 1 Axes>"
            ]
          },
          "metadata": {
            "tags": []
          }
        }
      ]
    },
    {
      "cell_type": "code",
      "metadata": {
        "id": "IbH0CEDtqBCH",
        "colab": {
          "base_uri": "https://localhost:8080/"
        },
        "outputId": "bef408ca-1d39-4b34-abb3-3490c7078417"
      },
      "source": [
        "print(data['countyname'].unique())\n",
        "print(len(data['countyname'].unique()))"
      ],
      "execution_count": null,
      "outputs": [
        {
          "output_type": "stream",
          "text": [
            "['Kings' 'Queens' 'Los Angeles' ... 'Wolfe' 'Daggett' 'Yakutat']\n",
            "1845\n"
          ],
          "name": "stdout"
        }
      ]
    },
    {
      "cell_type": "code",
      "metadata": {
        "id": "50koeQtADAkx",
        "colab": {
          "base_uri": "https://localhost:8080/",
          "height": 358
        },
        "outputId": "6a998674-626a-4b65-db6f-df488f3c0328"
      },
      "source": [
        "county_count = data['countyname'].value_counts()\n",
        "sns.barplot(county_count.index, county_count.values, alpha=0.9)\n",
        "plt.title('Frequency Distribution of Counties')\n",
        "plt.ylabel('Number of Occurrences', fontsize=12)\n",
        "plt.xlabel('Counties', fontsize=12)\n",
        "plt.show()"
      ],
      "execution_count": null,
      "outputs": [
        {
          "output_type": "stream",
          "text": [
            "/usr/local/lib/python3.6/dist-packages/seaborn/_decorators.py:43: FutureWarning: Pass the following variables as keyword args: x, y. From version 0.12, the only valid positional argument will be `data`, and passing other arguments without an explicit keyword will result in an error or misinterpretation.\n",
            "  FutureWarning\n"
          ],
          "name": "stderr"
        },
        {
          "output_type": "display_data",
          "data": {
            "image/png": "[encoded data removed]",
            "text/plain": [
              "<Figure size 432x288 with 1 Axes>"
            ]
          },
          "metadata": {
            "tags": []
          }
        }
      ]
    },
    {
      "cell_type": "code",
      "metadata": {
        "id": "G8cacavBqN01",
        "colab": {
          "base_uri": "https://localhost:8080/"
        },
        "outputId": "0232d3af-1708-45e1-da17-dfc5573cacf4"
      },
      "source": [
        "print(data['severity_county_5-day'].unique())\n",
        "print(len(data['severity_county_5-day'].unique()))"
      ],
      "execution_count": null,
      "outputs": [
        {
          "output_type": "stream",
          "text": [
            "[3 2 1]\n",
            "3\n"
          ],
          "name": "stdout"
        }
      ]
    },
    {
      "cell_type": "code",
      "metadata": {
        "id": "IdCmFmlwqcrs",
        "colab": {
          "base_uri": "https://localhost:8080/"
        },
        "outputId": "d2a58196-d3ca-43ef-8445-5854b956084c"
      },
      "source": [
        "print(data['countyfips'].unique())\n",
        "print(len(data['countyfips'].unique()))"
      ],
      "execution_count": null,
      "outputs": [
        {
          "output_type": "stream",
          "text": [
            "[36047 36081  6037 ... 21237 49009  2282]\n",
            "3142\n"
          ],
          "name": "stdout"
        }
      ]
    },
    {
      "cell_type": "code",
      "metadata": {
        "id": "xfEKoEOjr5ot",
        "colab": {
          "base_uri": "https://localhost:8080/",
          "height": 175
        },
        "outputId": "b37f6f38-76ea-44f0-b84b-2429408f96a6"
      },
      "source": [
        "data[['predicted_deaths_by_october_06', 'severity_county_5-day']].groupby(['severity_county_5-day']).mean().sort_values(by='severity_county_5-day', ascending=True)"
      ],
      "execution_count": null,
      "outputs": [
        {
          "output_type": "execute_result",
          "data": {
            "text/html": [
              "<div>\n",
              "<style scoped>\n",
              "    .dataframe tbody tr th:only-of-type {\n",
              "        vertical-align: middle;\n",
              "    }\n",
              "\n",
              "    .dataframe tbody tr th {\n",
              "        vertical-align: top;\n",
              "    }\n",
              "\n",
              "    .dataframe thead th {\n",
              "        text-align: right;\n",
              "    }\n",
              "</style>\n",
              "<table border=\"1\" class=\"dataframe\">\n",
              "  <thead>\n",
              "    <tr style=\"text-align: right;\">\n",
              "      <th></th>\n",
              "      <th>predicted_deaths_by_october_06</th>\n",
              "    </tr>\n",
              "    <tr>\n",
              "      <th>severity_county_5-day</th>\n",
              "      <th></th>\n",
              "    </tr>\n",
              "  </thead>\n",
              "  <tbody>\n",
              "    <tr>\n",
              "      <th>1</th>\n",
              "      <td>5.789512</td>\n",
              "    </tr>\n",
              "    <tr>\n",
              "      <th>2</th>\n",
              "      <td>38.487992</td>\n",
              "    </tr>\n",
              "    <tr>\n",
              "      <th>3</th>\n",
              "      <td>157.433013</td>\n",
              "    </tr>\n",
              "  </tbody>\n",
              "</table>\n",
              "</div>"
            ],
            "text/plain": [
              "                       predicted_deaths_by_october_06\n",
              "severity_county_5-day                                \n",
              "1                                            5.789512\n",
              "2                                           38.487992\n",
              "3                                          157.433013"
            ]
          },
          "metadata": {
            "tags": []
          },
          "execution_count": 44
        }
      ]
    },
    {
      "cell_type": "code",
      "metadata": {
        "id": "nYMeCa9FsWeB",
        "colab": {
          "base_uri": "https://localhost:8080/",
          "height": 175
        },
        "outputId": "d47fbe0f-c3ad-4053-e525-eb2a9b00c386"
      },
      "source": [
        "data[['predicted_deaths_by_october_07', 'severity_county_5-day']].groupby(['severity_county_5-day']).mean().sort_values(by='severity_county_5-day', ascending=True)"
      ],
      "execution_count": null,
      "outputs": [
        {
          "output_type": "execute_result",
          "data": {
            "text/html": [
              "<div>\n",
              "<style scoped>\n",
              "    .dataframe tbody tr th:only-of-type {\n",
              "        vertical-align: middle;\n",
              "    }\n",
              "\n",
              "    .dataframe tbody tr th {\n",
              "        vertical-align: top;\n",
              "    }\n",
              "\n",
              "    .dataframe thead th {\n",
              "        text-align: right;\n",
              "    }\n",
              "</style>\n",
              "<table border=\"1\" class=\"dataframe\">\n",
              "  <thead>\n",
              "    <tr style=\"text-align: right;\">\n",
              "      <th></th>\n",
              "      <th>predicted_deaths_by_october_07</th>\n",
              "    </tr>\n",
              "    <tr>\n",
              "      <th>severity_county_5-day</th>\n",
              "      <th></th>\n",
              "    </tr>\n",
              "  </thead>\n",
              "  <tbody>\n",
              "    <tr>\n",
              "      <th>1</th>\n",
              "      <td>5.951426</td>\n",
              "    </tr>\n",
              "    <tr>\n",
              "      <th>2</th>\n",
              "      <td>38.681693</td>\n",
              "    </tr>\n",
              "    <tr>\n",
              "      <th>3</th>\n",
              "      <td>158.193744</td>\n",
              "    </tr>\n",
              "  </tbody>\n",
              "</table>\n",
              "</div>"
            ],
            "text/plain": [
              "                       predicted_deaths_by_october_07\n",
              "severity_county_5-day                                \n",
              "1                                            5.951426\n",
              "2                                           38.681693\n",
              "3                                          158.193744"
            ]
          },
          "metadata": {
            "tags": []
          },
          "execution_count": 45
        }
      ]
    },
    {
      "cell_type": "code",
      "metadata": {
        "id": "tNSowG4VsoQb",
        "colab": {
          "base_uri": "https://localhost:8080/",
          "height": 175
        },
        "outputId": "459b3a44-ec8f-498b-c6f4-b1623c0e93e9"
      },
      "source": [
        "data[['predicted_deaths_by_october_08', 'severity_county_5-day']].groupby(['severity_county_5-day']).mean().sort_values(by='severity_county_5-day', ascending=True)"
      ],
      "execution_count": null,
      "outputs": [
        {
          "output_type": "execute_result",
          "data": {
            "text/html": [
              "<div>\n",
              "<style scoped>\n",
              "    .dataframe tbody tr th:only-of-type {\n",
              "        vertical-align: middle;\n",
              "    }\n",
              "\n",
              "    .dataframe tbody tr th {\n",
              "        vertical-align: top;\n",
              "    }\n",
              "\n",
              "    .dataframe thead th {\n",
              "        text-align: right;\n",
              "    }\n",
              "</style>\n",
              "<table border=\"1\" class=\"dataframe\">\n",
              "  <thead>\n",
              "    <tr style=\"text-align: right;\">\n",
              "      <th></th>\n",
              "      <th>predicted_deaths_by_october_08</th>\n",
              "    </tr>\n",
              "    <tr>\n",
              "      <th>severity_county_5-day</th>\n",
              "      <th></th>\n",
              "    </tr>\n",
              "  </thead>\n",
              "  <tbody>\n",
              "    <tr>\n",
              "      <th>1</th>\n",
              "      <td>6.107176</td>\n",
              "    </tr>\n",
              "    <tr>\n",
              "      <th>2</th>\n",
              "      <td>38.880217</td>\n",
              "    </tr>\n",
              "    <tr>\n",
              "      <th>3</th>\n",
              "      <td>158.950818</td>\n",
              "    </tr>\n",
              "  </tbody>\n",
              "</table>\n",
              "</div>"
            ],
            "text/plain": [
              "                       predicted_deaths_by_october_08\n",
              "severity_county_5-day                                \n",
              "1                                            6.107176\n",
              "2                                           38.880217\n",
              "3                                          158.950818"
            ]
          },
          "metadata": {
            "tags": []
          },
          "execution_count": 46
        }
      ]
    },
    {
      "cell_type": "code",
      "metadata": {
        "id": "uFWM1rYPsqCC",
        "colab": {
          "base_uri": "https://localhost:8080/",
          "height": 175
        },
        "outputId": "f832bec9-5729-4131-85cb-a9017f6fe820"
      },
      "source": [
        "data[['predicted_deaths_by_october_09', 'severity_county_5-day']].groupby(['severity_county_5-day']).mean().sort_values(by='severity_county_5-day', ascending=True)"
      ],
      "execution_count": null,
      "outputs": [
        {
          "output_type": "execute_result",
          "data": {
            "text/html": [
              "<div>\n",
              "<style scoped>\n",
              "    .dataframe tbody tr th:only-of-type {\n",
              "        vertical-align: middle;\n",
              "    }\n",
              "\n",
              "    .dataframe tbody tr th {\n",
              "        vertical-align: top;\n",
              "    }\n",
              "\n",
              "    .dataframe thead th {\n",
              "        text-align: right;\n",
              "    }\n",
              "</style>\n",
              "<table border=\"1\" class=\"dataframe\">\n",
              "  <thead>\n",
              "    <tr style=\"text-align: right;\">\n",
              "      <th></th>\n",
              "      <th>predicted_deaths_by_october_09</th>\n",
              "    </tr>\n",
              "    <tr>\n",
              "      <th>severity_county_5-day</th>\n",
              "      <th></th>\n",
              "    </tr>\n",
              "  </thead>\n",
              "  <tbody>\n",
              "    <tr>\n",
              "      <th>1</th>\n",
              "      <td>6.264121</td>\n",
              "    </tr>\n",
              "    <tr>\n",
              "      <th>2</th>\n",
              "      <td>39.081398</td>\n",
              "    </tr>\n",
              "    <tr>\n",
              "      <th>3</th>\n",
              "      <td>159.708855</td>\n",
              "    </tr>\n",
              "  </tbody>\n",
              "</table>\n",
              "</div>"
            ],
            "text/plain": [
              "                       predicted_deaths_by_october_09\n",
              "severity_county_5-day                                \n",
              "1                                            6.264121\n",
              "2                                           39.081398\n",
              "3                                          159.708855"
            ]
          },
          "metadata": {
            "tags": []
          },
          "execution_count": 47
        }
      ]
    },
    {
      "cell_type": "code",
      "metadata": {
        "id": "9og67K5Asrtc",
        "colab": {
          "base_uri": "https://localhost:8080/",
          "height": 175
        },
        "outputId": "c706b59b-8d2e-4481-b4d0-961459ecf5e5"
      },
      "source": [
        "data[['predicted_deaths_by_october_10', 'severity_county_5-day']].groupby(['severity_county_5-day']).mean().sort_values(by='severity_county_5-day', ascending=True)"
      ],
      "execution_count": null,
      "outputs": [
        {
          "output_type": "execute_result",
          "data": {
            "text/html": [
              "<div>\n",
              "<style scoped>\n",
              "    .dataframe tbody tr th:only-of-type {\n",
              "        vertical-align: middle;\n",
              "    }\n",
              "\n",
              "    .dataframe tbody tr th {\n",
              "        vertical-align: top;\n",
              "    }\n",
              "\n",
              "    .dataframe thead th {\n",
              "        text-align: right;\n",
              "    }\n",
              "</style>\n",
              "<table border=\"1\" class=\"dataframe\">\n",
              "  <thead>\n",
              "    <tr style=\"text-align: right;\">\n",
              "      <th></th>\n",
              "      <th>predicted_deaths_by_october_10</th>\n",
              "    </tr>\n",
              "    <tr>\n",
              "      <th>severity_county_5-day</th>\n",
              "      <th></th>\n",
              "    </tr>\n",
              "  </thead>\n",
              "  <tbody>\n",
              "    <tr>\n",
              "      <th>1</th>\n",
              "      <td>6.427415</td>\n",
              "    </tr>\n",
              "    <tr>\n",
              "      <th>2</th>\n",
              "      <td>39.284646</td>\n",
              "    </tr>\n",
              "    <tr>\n",
              "      <th>3</th>\n",
              "      <td>160.469105</td>\n",
              "    </tr>\n",
              "  </tbody>\n",
              "</table>\n",
              "</div>"
            ],
            "text/plain": [
              "                       predicted_deaths_by_october_10\n",
              "severity_county_5-day                                \n",
              "1                                            6.427415\n",
              "2                                           39.284646\n",
              "3                                          160.469105"
            ]
          },
          "metadata": {
            "tags": []
          },
          "execution_count": 48
        }
      ]
    },
    {
      "cell_type": "code",
      "metadata": {
        "id": "ROESSstjst0n"
      },
      "source": [
        "x=data[['predicted_deaths_by_october_11', 'severity_county_5-day']].groupby(['severity_county_5-day']).mean().sort_values(by='severity_county_5-day', ascending=True)"
      ],
      "execution_count": null,
      "outputs": []
    },
    {
      "cell_type": "code",
      "metadata": {
        "id": "viYKpK-OGYdz"
      },
      "source": [
        "#This is actually useless, and will completely mislead the model while training\n",
        "def encode_county(df):\n",
        "  count = county_counts[county_counts_index.index(df['countyname'])]\n",
        "  if count > 25 : \n",
        "    return \"Very Common\"\n",
        "  elif count > 15:\n",
        "    return \"Common\"\n",
        "  elif count > 5:\n",
        "    return \"Rare\"\n",
        "  else:\n",
        "    return \"Very Rare\"\n",
        "\n",
        "county_counts = county_count.tolist()\n",
        "county_counts_index = county_count.index.tolist()\n",
        "#data1['countyname']=data1.apply(encode_county,axis=1)"
      ],
      "execution_count": null,
      "outputs": []
    },
    {
      "cell_type": "markdown",
      "metadata": {
        "id": "NHj1BIx2hkrj"
      },
      "source": [
        "# **Aninav Bayesian Classifier**"
      ]
    },
    {
      "cell_type": "markdown",
      "metadata": {
        "id": "yvZ0zkMgibDw"
      },
      "source": [
        "**fetchData: Function to fetch data from directory**"
      ]
    },
    {
      "cell_type": "code",
      "metadata": {
        "id": "xqKiTIQTibvQ"
      },
      "source": [
        "def fetchData():\n",
        "  data = pd.read_csv('Train_F.csv') \n",
        "  return data"
      ],
      "execution_count": null,
      "outputs": []
    },
    {
      "cell_type": "markdown",
      "metadata": {
        "id": "2DG0DdxyqSeP"
      },
      "source": [
        "**fillMissingValues: Function to fill Missing Value**"
      ]
    },
    {
      "cell_type": "code",
      "metadata": {
        "id": "wpd4PCau12j-"
      },
      "source": [
        "def fillMissingValues(df):\n",
        "  cateogry_columns=df.select_dtypes(include=['object']).columns.tolist()\n",
        "  continous_columns=df.select_dtypes(include=['int64','float64']).columns.tolist()\n",
        "  \n",
        "  for column in df:\n",
        "      if df[column].isnull().any():\n",
        "          if(column in cateogry_columns):\n",
        "              df[column]=df[column].fillna(df[column].mode()[0])\n",
        "          else:\n",
        "              df[column]=df[column].fillna(df[column].mean)\n",
        "  \n",
        "  return df"
      ],
      "execution_count": null,
      "outputs": []
    },
    {
      "cell_type": "markdown",
      "metadata": {
        "id": "TQdLV46lqhN4"
      },
      "source": [
        "**encode : Function to encode continous variables into categorical variables**"
      ]
    },
    {
      "cell_type": "code",
      "metadata": {
        "id": "4bj3dVYGz7r_"
      },
      "source": [
        "#Helper function\n",
        "def createBin(x,max_val):\n",
        "  frac = x/max_val\n",
        "  if frac < 0.25:\n",
        "    return \"Small\"\n",
        "  elif frac >=0.25 and frac < 0.5:\n",
        "    return \"Moderate\"\n",
        "  elif frac >=0.5 and frac < 0.75:\n",
        "    return \"Large\"\n",
        "  else:\n",
        "    return \"Very Large\"\n",
        "\n",
        "\n",
        "def encode(df):\n",
        "    '''\n",
        "    Recodes the continous feature (variable) values into quartiles, such that values \n",
        "    less than the 25th percentile are assigned 'Small', 25th to 50th 'Moderate', \n",
        "    50th to 75th 'Large' and greater than the 75th percentile 'Very Large'\n",
        "    '''\n",
        "    continous_columns=df.select_dtypes(include=['int64','float64']).columns.tolist()\n",
        "    continous_columns.remove(data.columns[-1])\n",
        "    for feature in continous_columns:\n",
        "      max_val = df[feature].max()\n",
        "      #df[feature] = df.apply(createBin(df,feature,max_val),axis=1)\n",
        "      df[feature] = df[feature].apply(lambda x: createBin(x,max_val))\n",
        "\n",
        "    return df"
      ],
      "execution_count": null,
      "outputs": []
    },
    {
      "cell_type": "markdown",
      "metadata": {
        "id": "x6DKAZfwqsJS"
      },
      "source": [
        "**train: Function to train NB model**"
      ]
    },
    {
      "cell_type": "code",
      "metadata": {
        "id": "G5vj0Ye_0WeR"
      },
      "source": [
        "def train(df,target, attributes):\n",
        "\n",
        "    label_classes = df[target].unique()\n",
        "    '''\n",
        "    Data structure used to store probabilities : 3 dimensional Dictionary \n",
        "    Element prob_dict[k][j][i] stores probability of occurence of jth value of kth attribute given that ith class is TRUE\n",
        "    \n",
        "    Simpler Format : prob_dict[attribute][attr_value][class]\n",
        "\n",
        "    '''\n",
        "    prob_dict = {}    #Main Dictionary \n",
        "\n",
        "    for attribute in attributes:\n",
        "        \n",
        "        attr_values = df[attribute].unique()\n",
        "        conditional_prob_dict = {}                #Stores For all attr_value -> [ P(attr_value | class1), P(attr_value | class2), P(attr_value | class3)]\n",
        "        \n",
        "        for attr_value in attr_values:\n",
        "            conditional_prob = {}\n",
        "            for label_class in label_classes:                \n",
        "                numerator = (df[df[attribute] == attr_value].index & df[df[target] == label_class].index).shape[0] + 1  #Adding 1 to avoid zero proabability\n",
        "                denominator = df[df[target] == int(label_class)].shape[0] + len(df[attribute].unique())                 #Adding m (no. of classes) to avoid zero denominator\n",
        "                probability = numerator / denominator\n",
        "                \n",
        "                conditional_prob[label_class] = probability\n",
        "\n",
        "            conditional_prob_dict[attr_value] = conditional_prob       #[ P(attr_value | class1), P(attr_value | class2), P(attr_value | class3)]\n",
        "\n",
        "        prob_dict[attribute] = conditional_prob_dict\n",
        "\n",
        "        #Calculating class probabilities\n",
        "        prob_class={}\n",
        "        for label_class in label_classes:\n",
        "          prob_class[label_class] = (df[df[target] == label_class].shape[0] / df.shape[0])\n",
        "\n",
        "    return prob_dict,prob_class"
      ],
      "execution_count": null,
      "outputs": []
    },
    {
      "cell_type": "markdown",
      "metadata": {
        "id": "j_ztwckEq2TE"
      },
      "source": [
        "**predict : Function to predict labels**"
      ]
    },
    {
      "cell_type": "code",
      "metadata": {
        "id": "oZbcmPsn-3go"
      },
      "source": [
        "def predict(prob_dict,prob_class,attributes,label_classes,datapoint):\n",
        "  \n",
        "    prob_max=0\n",
        "    for label_class in label_classes:\n",
        "      prob=1\n",
        "      for attribute in attributes:\n",
        "        prob = prob * prob_dict[attribute][datapoint[attribute]][label_class]\n",
        "      \n",
        "      prob=prob*prob_class[label_class]\n",
        "\n",
        "      if prob > prob_max:\n",
        "        prob_max = prob\n",
        "        label = label_class\n",
        "\n",
        "    return label\n",
        "\n",
        "def getPrediction(prob_dict,prob_class,attributes,label_classes,test):\n",
        "  preds=[]\n",
        "  for i in range(0,len(test)):\n",
        "    preds.append(predict(prob_dict,prob_class,attributes,label_classes,test.iloc[i]))\n",
        "  \n",
        "  return preds"
      ],
      "execution_count": null,
      "outputs": []
    },
    {
      "cell_type": "markdown",
      "metadata": {
        "id": "7P6tE8n_q-mX"
      },
      "source": [
        "**getAccuracy : Function to calculate accuracy of classifier**"
      ]
    },
    {
      "cell_type": "code",
      "metadata": {
        "id": "c7zdvvb8p0vY"
      },
      "source": [
        "def getAccuracy(preds,labels):\n",
        "  if len(preds) != len(labels):\n",
        "    print(\"Shape of Actual label array & predicted label array should be same.\")\n",
        "    exit(1)\n",
        "  correct_count=0\n",
        "  for i in range(0,len(preds)):\n",
        "    if(preds[i]==labels[i]):\n",
        "      correct_count+=1\n",
        "\n",
        "  return correct_count/len(preds)"
      ],
      "execution_count": null,
      "outputs": []
    },
    {
      "cell_type": "markdown",
      "metadata": {
        "id": "3x6aRPGRp1Tw"
      },
      "source": [
        "**Main Driver Function**"
      ]
    },
    {
      "cell_type": "code",
      "metadata": {
        "id": "RW-QudBc8VOR"
      },
      "source": [
        "import numpy as np\n",
        "import pandas as pd\n",
        "data = fetchData()\n",
        "data = fillMissingValues(data)\n",
        "data = encode(data)\n",
        "data = pd.get_dummies(data,drop_first=True) #Encoding categorical \n",
        "attributes=data.columns[1:].tolist()\n",
        "target=data.columns[0]\n",
        "label_classes=data[target].unique()"
      ],
      "execution_count": null,
      "outputs": []
    },
    {
      "cell_type": "code",
      "metadata": {
        "id": "1uRMY4eL-uHN"
      },
      "source": [
        "probs,prob_class = train(data,target,attributes)\n",
        "preds = getPrediction(probs,prob_class,attributes,label_classes,data)\n",
        "acc = getAccuracy(preds,data[target])"
      ],
      "execution_count": null,
      "outputs": []
    },
    {
      "cell_type": "code",
      "metadata": {
        "id": "VASf0ImmuIT9",
        "colab": {
          "base_uri": "https://localhost:8080/"
        },
        "outputId": "2fab4f82-0c1a-443a-ce50-c3d51bbe2a54"
      },
      "source": [
        "print(\"Accuracy is \" + str(round(acc,4)*100) + \"%\")"
      ],
      "execution_count": null,
      "outputs": [
        {
          "output_type": "stream",
          "text": [
            "Accuracy is 70.43%\n"
          ],
          "name": "stdout"
        }
      ]
    }
  ]
}